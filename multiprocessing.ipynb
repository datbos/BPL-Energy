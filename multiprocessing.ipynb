{
 "cells": [
  {
   "cell_type": "code",
   "execution_count": 2,
   "metadata": {},
   "outputs": [
    {
     "name": "stdout",
     "output_type": "stream",
     "text": [
      "['Brown & Sons', 'Wilson & Sons', 'Bartlett & Sons', 'Rivera & Sons', 'Molloy & Sons', 'Opie & Sons']\n"
     ]
    }
   ],
   "source": [
    "import multiprocessing\n",
    "from functools import partial\n",
    "from contextlib import contextmanager\n",
    "\n",
    "@contextmanager\n",
    "def poolcontext(*args, **kwargs):\n",
    "    pool = multiprocessing.Pool(*args, **kwargs)\n",
    "    yield pool\n",
    "    pool.terminate()\n",
    "\n",
    "def merge_names(a, b):\n",
    "    return '{} & {}'.format(a, b)\n",
    "\n",
    "if __name__ == '__main__':\n",
    "    names = ['Brown', 'Wilson', 'Bartlett', 'Rivera', 'Molloy', 'Opie']\n",
    "    with poolcontext(processes=3) as pool:\n",
    "        results = pool.map(partial(merge_names, b='Sons'), names)\n",
    "    print(results)"
   ]
  },
  {
   "cell_type": "code",
   "execution_count": 3,
   "metadata": {},
   "outputs": [
    {
     "name": "stdout",
     "output_type": "stream",
     "text": [
      "[1, 4, 9]\n"
     ]
    }
   ],
   "source": [
    "from multiprocessing import Pool\n",
    "\n",
    "def f(x):\n",
    "    return x*x\n",
    "\n",
    "if __name__ == '__main__':\n",
    "    p = Pool(5)\n",
    "    print(p.map(f, [1, 2, 3]))"
   ]
  },
  {
   "cell_type": "code",
   "execution_count": 12,
   "metadata": {},
   "outputs": [
    {
     "data": {
      "text/plain": [
       "[<addinfourl at 4459995576 whose fp = <socket._fileobject object at 0x109cdff50>>,\n",
       " <addinfourl at 4459992128 whose fp = <socket._fileobject object at 0x109d57550>>,\n",
       " <addinfourl at 4414166584 whose fp = <socket._fileobject object at 0x109caf1d0>>,\n",
       " <addinfourl at 4381625808 whose fp = <socket._fileobject object at 0x109cdfe50>>,\n",
       " <addinfourl at 4460010024 whose fp = <socket._fileobject object at 0x109d57850>>,\n",
       " <addinfourl at 4459992056 whose fp = <socket._fileobject object at 0x109d57350>>,\n",
       " <addinfourl at 4459991696 whose fp = <socket._fileobject object at 0x109cdfcd0>>,\n",
       " <addinfourl at 4460009160 whose fp = <socket._fileobject object at 0x109d579d0>>,\n",
       " <addinfourl at 4459992272 whose fp = <socket._fileobject object at 0x109d577d0>>,\n",
       " <addinfourl at 4460008944 whose fp = <socket._fileobject object at 0x109d57a50>>,\n",
       " <addinfourl at 4381493728 whose fp = <socket._fileobject object at 0x109d578d0>>,\n",
       " <addinfourl at 4414181320 whose fp = <socket._fileobject object at 0x109d57650>>,\n",
       " <addinfourl at 4459998312 whose fp = <socket._fileobject object at 0x109d575d0>>]"
      ]
     },
     "execution_count": 12,
     "metadata": {},
     "output_type": "execute_result"
    }
   ],
   "source": [
    "import urllib2 \n",
    "from multiprocessing.dummy import Pool as ThreadPool\n",
    "import timeit\n",
    "\n",
    "urls = [\n",
    "  'http://www.python.org', \n",
    "  'http://www.python.org/about/',\n",
    "  'http://www.onlamp.com/pub/a/python/2003/04/17/metaclasses.html',\n",
    "  'http://www.python.org/doc/',\n",
    "  'http://www.python.org/download/',\n",
    "  'http://www.python.org/getit/',\n",
    "  'http://www.python.org/community/',\n",
    "  'https://wiki.python.org/moin/',\n",
    "  'http://planet.python.org/',\n",
    "  'https://wiki.python.org/moin/LocalUserGroups',\n",
    "  'http://www.python.org/psf/',\n",
    "  'http://docs.python.org/devguide/',\n",
    "  'http://www.python.org/community/awards/'\n",
    "  # etc.. \n",
    "  ]\n",
    "\n",
    "# Make the Pool of workers\n",
    "pool = ThreadPool(4) \n",
    "# Open the urls in their own threads\n",
    "# and return the results\n",
    "results = pool.map(urllib2.urlopen, urls)\n",
    "#close the pool and wait for the work to finish \n",
    "pool.close() \n",
    "pool.join() \n",
    "\n",
    "results = [] \n",
    "for url in urls:\n",
    "    result = urllib2.urlopen(url)\n",
    "    results.append(result)\n",
    "\n",
    "\n",
    "# # ------- VERSUS ------- # \n",
    "\n",
    "\n",
    "# # ------- 4 Pool ------- # \n",
    "pool = ThreadPool(4) \n",
    "results = pool.map(urllib2.urlopen, urls)\n",
    "results\n",
    "\n",
    "# # ------- 8 Pool ------- # \n",
    "\n",
    "pool = ThreadPool(8) \n",
    "results = pool.map(urllib2.urlopen, urls)\n",
    "results\n",
    "\n",
    "# # ------- 13 Pool ------- # \n",
    "\n",
    "pool = ThreadPool(13) \n",
    "results = pool.map(urllib2.urlopen, urls)\n",
    "results\n"
   ]
  },
  {
   "cell_type": "code",
   "execution_count": null,
   "metadata": {
    "collapsed": true
   },
   "outputs": [],
   "source": []
  }
 ],
 "metadata": {
  "kernelspec": {
   "display_name": "Python 2",
   "language": "python",
   "name": "python2"
  },
  "language_info": {
   "codemirror_mode": {
    "name": "ipython",
    "version": 2
   },
   "file_extension": ".py",
   "mimetype": "text/x-python",
   "name": "python",
   "nbconvert_exporter": "python",
   "pygments_lexer": "ipython2",
   "version": "2.7.13"
  }
 },
 "nbformat": 4,
 "nbformat_minor": 2
}
