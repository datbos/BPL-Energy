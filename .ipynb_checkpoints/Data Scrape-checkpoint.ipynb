{
 "cells": [
  {
   "cell_type": "code",
   "execution_count": 25,
   "metadata": {
    "collapsed": true
   },
   "outputs": [],
   "source": [
    "import pandas as pd\n",
    "import numpy as np\n",
    "\n",
    "%matplotlib inline"
   ]
  },
  {
   "cell_type": "markdown",
   "metadata": {},
   "source": [
    "### Chicago Best List 2011 Data Scrape\n",
    "\n",
    "Chicago Reader's Best of 2011 list. \n",
    "looking at the Food and Drink section of the Best of 2011 list, we see that all the categories are a link.\n",
    "highlight \"Readers' Poll Winners\", right-click, and select Inspect Element.\n",
    "<dl class=\"boccat\"> just above our \"Readers' Poll Winners\" line? If you mouse over that line in your browser's dev tools, you'll notice that it highlights the entire section of category links we want"
   ]
  },
  {
   "cell_type": "code",
   "execution_count": null,
   "metadata": {
    "collapsed": true
   },
   "outputs": [],
   "source": [
    "from bs4 import BeautifulSoup\n",
    "from urllib2 import urlopen\n",
    "from time import sleep # be nice\n",
    "\n",
    "BASE_URL = \"http://www.chicagoreader.com\"\n",
    "\n",
    "def make_soup(url):\n",
    "    html = urlopen(url).read()\n",
    "    return BeautifulSoup(html, \"lxml\")\n",
    "\n",
    "def get_category_links(section_url):\n",
    "    soup = make_soup(section_url)\n",
    "    boccat = soup.find(\"dl\", \"boccat\")\n",
    "    category_links = [BASE_URL + dd.a[\"href\"] for dd in boccat.findAll(\"dd\")]\n",
    "    return category_links\n",
    "\n",
    "def get_category_winner(category_url):\n",
    "    soup = make_soup(category_url)\n",
    "    category = soup.find(\"h1\", \"headline\").string\n",
    "    winner = [h2.string for h2 in soup.findAll(\"h2\", \"boc1\")]\n",
    "    runners_up = [h2.string for h2 in soup.findAll(\"h2\", \"boc2\")]\n",
    "    return {\"category\": category,\n",
    "            \"category_url\": category_url,\n",
    "            \"winner\": winner,\n",
    "            \"runners_up\": runners_up}\n",
    "\n",
    "if __name__ == '__main__':\n",
    "    food_n_drink = (\"http://www.chicagoreader.com/chicago/\"\n",
    "                    \"best-of-chicago-2011-food-drink/BestOf?oid=4106228\")\n",
    "    \n",
    "    categories = get_category_links(food_n_drink)\n",
    "\n",
    "    data = [] # a list to store our dictionaries\n",
    "    for category in categories:\n",
    "        winner = get_category_winner(category)\n",
    "        data.append(winner)\n",
    "        sleep(1) # be nice\n",
    "\n",
    "    print data"
   ]
  },
  {
   "cell_type": "code",
   "execution_count": 9,
   "metadata": {
    "collapsed": true
   },
   "outputs": [],
   "source": [
    "# grab all of the links within the <dd> elements of that section\n",
    "from bs4 import BeautifulSoup\n",
    "from urllib2 import urlopen\n",
    "\n",
    "BASE_URL = \"http://www.chicagoreader.com\"   #links used through the site are relative - \n",
    "                                            # meaning they do not include the base domain. \n",
    "                                            # In order to store our links properly, we need to \n",
    "                                            # concatenate the base domain with each relative link.\n",
    "\n",
    "def get_category_links(section_url):        #use the Food and Drink section of the BOC list, \n",
    "                                            #however we could use a different section URL - for instance, \n",
    "                                            #the City Life section's URL. We're able to create just one \n",
    "                                            #generic function because each section page is structured the same\n",
    "    html = urlopen(section_url).read()      #Open the section_url and read it in the html object\n",
    "                                           \n",
    "    soup = BeautifulSoup(html, \"lxml\")      #Create an object called soup based on the BeautifulSoup class. \n",
    "                                            #The soup object is an instance of the BeautifulSoup class. It is \n",
    "                                            #initialized with the html object and parsed with lxml\n",
    "    boccat = soup.find(\"dl\", \"boccat\")      #In our BeautifulSoup instance (which we called soup), find the <dl> \n",
    "                                            #element with a class of \"boccat\" and store that section in a \n",
    "                                            #variable called boccat\n",
    "            \n",
    "    category_links = [BASE_URL + dd.a[\"href\"] for dd in boccat.findAll(\"dd\")]  #This is a list comprehension. \n",
    "                                            #For every <dd> element found within our boccat variable, we're getting  \n",
    "                                            #the href of its <a> element (our category links) and concatenating on  \n",
    "                                            #our BASE_URL to make it a complete link. All of these links are being \n",
    "                                            #stored in a list called category_links\n",
    "    return category_links                   #Finally, our function returns the category_links list that we created \n",
    "                                            #on the previous line\n",
    "    "
   ]
  },
  {
   "cell_type": "code",
   "execution_count": 10,
   "metadata": {
    "collapsed": true
   },
   "outputs": [],
   "source": [
    "def get_category_winner(category_url):       \n",
    "    html = urlopen(category_url).read()\n",
    "    soup = BeautifulSoup(html, \"lxml\")\n",
    "    category = soup.find(\"h1\", \"headline\").string\n",
    "    winner = [h2.string for h2 in soup.findAll(\"h2\", \"boc1\")]\n",
    "    runners_up = [h2.string for h2 in soup.findAll(\"h2\", \"boc2\")]\n",
    "    return {\"category\": category,\n",
    "            \"category_url\": category_url,\n",
    "            \"winner\": winner,\n",
    "            \"runners_up\": runners_up}\n",
    "\n",
    "#Define a function called get_category_winner. It requires a category_url.\n",
    "#Lines two and three are actually exactly the same as before - we'll come back to this in the next section.\n",
    "#Find the string within the <h1 class=\"headline\"> element and store it in a variable named category.\n",
    "#Another list comprehension - store the string within every <h2 class=\"boc1\"> element in a list called winner. But shouldn't there be only one winner? You'd think that, but some have multiple (e.g. Best Bang for your Buck).\n",
    "#Same as the previous line, but this time we're getting the runners-up.\n",
    "#Finally, return a dictionary with our data."
   ]
  },
  {
   "cell_type": "markdown",
   "metadata": {},
   "source": [
    "#### Loading the data and setting the DateTimeIndex"
   ]
  },
  {
   "cell_type": "code",
   "execution_count": null,
   "metadata": {
    "collapsed": true
   },
   "outputs": [],
   "source": [
    "dataBPL = pd.read_csv('https://data.boston.gov/dataset/652762e9-2556-47cd-8e80-798546992a57/resource/87c759ee-63b9-4aec-a00b-bba1672a20ef/download/copleylibraryelectricuse.csv', skipinitialspace=True,\n",
    "                   low_memory=False)\n",
    "dataCH = pd.read_csv('https://data.boston.gov/dataset/1b894599-21ff-478f-937d-653954977951/resource/f123e65d-dc0e-4c83-9348-ed46fec498c0/download/cityhallelectricuse.csv', skipinitialspace=True,\n",
    "                   low_memory=False)"
   ]
  },
  {
   "cell_type": "code",
   "execution_count": null,
   "metadata": {
    "collapsed": true
   },
   "outputs": [],
   "source": [
    "dataBPL['Date'] = pd.to_datetime(dataBPL['DateTime_Measured'])\n",
    "dataBPL.set_index('Date', inplace=True)\n",
    "\n",
    "dataBPL['Year'] = dataBPL.index.year\n",
    "dataBPL['Month'] = dataBPL.index.month\n",
    "dataBPL['Day']= dataBPL.index.day\n",
    "dataBPL['Weekday']= dataBPL.index.weekday\n",
    "dataBPL['Hour']= dataBPL.index.hour\n",
    "dataBPL['Time'] = dataBPL.index.time"
   ]
  },
  {
   "cell_type": "code",
   "execution_count": 28,
   "metadata": {
    "collapsed": true
   },
   "outputs": [],
   "source": [
    "dataCH['Date'] = pd.to_datetime(dataCH['DateTime_Measured'])\n",
    "dataCH.set_index('Date', inplace=True)\n",
    "\n",
    "dataCH['Year'] = dataCH.index.year\n",
    "dataCH['Month'] = dataCH.index.month\n",
    "dataCH['Day']= dataCH.index.day\n",
    "dataCH['Weekday']= dataCH.index.weekday\n",
    "dataCH['Hour']= dataCH.index.hour\n",
    "dataCH['Time'] = dataCH.index.time"
   ]
  },
  {
   "cell_type": "markdown",
   "metadata": {},
   "source": [
    "#### Filter the dataframe to Store 1 sales and aggregate over departments to compute the total sales per store."
   ]
  },
  {
   "cell_type": "code",
   "execution_count": 29,
   "metadata": {
    "collapsed": true
   },
   "outputs": [],
   "source": [
    "# Filter to store 1 sales and average over weeks\n",
    "#store1_sales = data[data.Store == 1][['Weekly_Sales']].resample('W', 'sum')\n",
    "#store1_sales.head()"
   ]
  },
  {
   "cell_type": "markdown",
   "metadata": {},
   "source": [
    "#### Plot the rolling_mean for `Weekly_Sales`. What general trends do you observe?"
   ]
  },
  {
   "cell_type": "code",
   "execution_count": null,
   "metadata": {},
   "outputs": [],
   "source": [
    "BPL_electric = pd.rolling_mean(dataBPL[['Total_Demand_KW']], 3).resample('D').mean()\n",
    "CH_electric = pd.rolling_mean(dataCH[['Total_Demand_KW']], 3).resample('D').mean()\n",
    "BPL_electric.plot(figsize=(15,3))\n",
    "CH_electric.plot(figsize=(15,3),color='g')\n",
    "#dataBPL[['Total_Demand_KW']].resample('H').rolling(window=3,center=False).mean().plot()\n",
    "#dataCH[['Total_Demand_KW']].resample('H').rolling(window=3,center=False).mean().plot()"
   ]
  },
  {
   "cell_type": "markdown",
   "metadata": {
    "collapsed": true
   },
   "source": [
    "#### Compute the 1, 24, 168 autocorrelations for Boston Public Library Hourly_KW and autocorrelation plot."
   ]
  },
  {
   "cell_type": "code",
   "execution_count": 19,
   "metadata": {},
   "outputs": [
    {
     "name": "stdout",
     "output_type": "stream",
     "text": [
      "('Autocorrelation 1: ', 0.66536778049152467)\n",
      "('Autocorrelation 7: ', 0.15837374789019878)\n",
      "('Autocorrelation 168: ', -0.061715297750297701)\n"
     ]
    }
   ],
   "source": [
    "print('Autocorrelation 1: ', BPL_electric['Total_Demand_KW'].autocorr(1))\n",
    "print('Autocorrelation 7: ', BPL_electric['Total_Demand_KW'].autocorr(24))\n",
    "print('Autocorrelation 168: ', BPL_electric['Total_Demand_KW'].autocorr(168))"
   ]
  },
  {
   "cell_type": "code",
   "execution_count": 20,
   "metadata": {},
   "outputs": [
    {
     "data": {
      "text/plain": [
       "<matplotlib.axes._subplots.AxesSubplot at 0x111a87d90>"
      ]
     },
     "execution_count": 20,
     "metadata": {},
     "output_type": "execute_result"
    },
    {
     "data": {
      "image/png": "[encoded data removed]",
      "text/plain": [
       "<matplotlib.figure.Figure at 0x10e625e10>"
      ]
     },
     "metadata": {},
     "output_type": "display_data"
    }
   ],
   "source": [
    "#from pandas.tools.plotting import autocorrelation_plot\n",
    "from pandas.plotting import autocorrelation_plot\n",
    "autocorrelation_plot(CH_electric['Total_Demand_KW'])"
   ]
  },
  {
   "cell_type": "code",
   "execution_count": 21,
   "metadata": {},
   "outputs": [
    {
     "data": {
      "text/html": [
       "<div>\n",
       "<style>\n",
       "    .dataframe thead tr:only-child th {\n",
       "        text-align: right;\n",
       "    }\n",
       "\n",
       "    .dataframe thead th {\n",
       "        text-align: left;\n",
       "    }\n",
       "\n",
       "    .dataframe tbody tr th {\n",
       "        vertical-align: top;\n",
       "    }\n",
       "</style>\n",
       "<table border=\"1\" class=\"dataframe\">\n",
       "  <thead>\n",
       "    <tr style=\"text-align: right;\">\n",
       "      <th></th>\n",
       "      <th>DateTime_Measured</th>\n",
       "      <th>Total_Demand_KW</th>\n",
       "      <th>Year</th>\n",
       "      <th>Month</th>\n",
       "      <th>Day</th>\n",
       "      <th>Weekday</th>\n",
       "      <th>Hour</th>\n",
       "      <th>Time</th>\n",
       "    </tr>\n",
       "    <tr>\n",
       "      <th>Date</th>\n",
       "      <th></th>\n",
       "      <th></th>\n",
       "      <th></th>\n",
       "      <th></th>\n",
       "      <th></th>\n",
       "      <th></th>\n",
       "      <th></th>\n",
       "      <th></th>\n",
       "    </tr>\n",
       "  </thead>\n",
       "  <tbody>\n",
       "    <tr>\n",
       "      <th>2016-09-21 11:45:00</th>\n",
       "      <td>2016-09-21 11:45:00</td>\n",
       "      <td>1641.6</td>\n",
       "      <td>2016</td>\n",
       "      <td>9</td>\n",
       "      <td>21</td>\n",
       "      <td>2</td>\n",
       "      <td>11</td>\n",
       "      <td>11:45:00</td>\n",
       "    </tr>\n",
       "    <tr>\n",
       "      <th>2016-09-21 11:40:00</th>\n",
       "      <td>2016-09-21 11:40:00</td>\n",
       "      <td>1692.0</td>\n",
       "      <td>2016</td>\n",
       "      <td>9</td>\n",
       "      <td>21</td>\n",
       "      <td>2</td>\n",
       "      <td>11</td>\n",
       "      <td>11:40:00</td>\n",
       "    </tr>\n",
       "    <tr>\n",
       "      <th>2016-09-21 11:35:00</th>\n",
       "      <td>2016-09-21 11:35:00</td>\n",
       "      <td>1677.6</td>\n",
       "      <td>2016</td>\n",
       "      <td>9</td>\n",
       "      <td>21</td>\n",
       "      <td>2</td>\n",
       "      <td>11</td>\n",
       "      <td>11:35:00</td>\n",
       "    </tr>\n",
       "    <tr>\n",
       "      <th>2016-09-21 11:30:00</th>\n",
       "      <td>2016-09-21 11:30:00</td>\n",
       "      <td>1648.8</td>\n",
       "      <td>2016</td>\n",
       "      <td>9</td>\n",
       "      <td>21</td>\n",
       "      <td>2</td>\n",
       "      <td>11</td>\n",
       "      <td>11:30:00</td>\n",
       "    </tr>\n",
       "    <tr>\n",
       "      <th>2016-09-21 11:25:00</th>\n",
       "      <td>2016-09-21 11:25:00</td>\n",
       "      <td>1605.6</td>\n",
       "      <td>2016</td>\n",
       "      <td>9</td>\n",
       "      <td>21</td>\n",
       "      <td>2</td>\n",
       "      <td>11</td>\n",
       "      <td>11:25:00</td>\n",
       "    </tr>\n",
       "    <tr>\n",
       "      <th>2016-09-21 11:20:00</th>\n",
       "      <td>2016-09-21 11:20:00</td>\n",
       "      <td>1648.8</td>\n",
       "      <td>2016</td>\n",
       "      <td>9</td>\n",
       "      <td>21</td>\n",
       "      <td>2</td>\n",
       "      <td>11</td>\n",
       "      <td>11:20:00</td>\n",
       "    </tr>\n",
       "    <tr>\n",
       "      <th>2016-09-21 11:15:00</th>\n",
       "      <td>2016-09-21 11:15:00</td>\n",
       "      <td>1684.8</td>\n",
       "      <td>2016</td>\n",
       "      <td>9</td>\n",
       "      <td>21</td>\n",
       "      <td>2</td>\n",
       "      <td>11</td>\n",
       "      <td>11:15:00</td>\n",
       "    </tr>\n",
       "    <tr>\n",
       "      <th>2016-09-21 11:05:00</th>\n",
       "      <td>2016-09-21 11:05:00</td>\n",
       "      <td>1677.6</td>\n",
       "      <td>2016</td>\n",
       "      <td>9</td>\n",
       "      <td>21</td>\n",
       "      <td>2</td>\n",
       "      <td>11</td>\n",
       "      <td>11:05:00</td>\n",
       "    </tr>\n",
       "    <tr>\n",
       "      <th>2016-09-21 11:00:00</th>\n",
       "      <td>2016-09-21 11:00:00</td>\n",
       "      <td>1684.8</td>\n",
       "      <td>2016</td>\n",
       "      <td>9</td>\n",
       "      <td>21</td>\n",
       "      <td>2</td>\n",
       "      <td>11</td>\n",
       "      <td>11:00:00</td>\n",
       "    </tr>\n",
       "    <tr>\n",
       "      <th>2016-09-21 10:55:00</th>\n",
       "      <td>2016-09-21 10:55:00</td>\n",
       "      <td>1641.6</td>\n",
       "      <td>2016</td>\n",
       "      <td>9</td>\n",
       "      <td>21</td>\n",
       "      <td>2</td>\n",
       "      <td>10</td>\n",
       "      <td>10:55:00</td>\n",
       "    </tr>\n",
       "    <tr>\n",
       "      <th>2016-09-21 10:50:00</th>\n",
       "      <td>2016-09-21 10:50:00</td>\n",
       "      <td>1641.6</td>\n",
       "      <td>2016</td>\n",
       "      <td>9</td>\n",
       "      <td>21</td>\n",
       "      <td>2</td>\n",
       "      <td>10</td>\n",
       "      <td>10:50:00</td>\n",
       "    </tr>\n",
       "    <tr>\n",
       "      <th>2016-09-21 10:45:00</th>\n",
       "      <td>2016-09-21 10:45:00</td>\n",
       "      <td>1677.6</td>\n",
       "      <td>2016</td>\n",
       "      <td>9</td>\n",
       "      <td>21</td>\n",
       "      <td>2</td>\n",
       "      <td>10</td>\n",
       "      <td>10:45:00</td>\n",
       "    </tr>\n",
       "    <tr>\n",
       "      <th>2016-09-21 10:40:00</th>\n",
       "      <td>2016-09-21 10:40:00</td>\n",
       "      <td>1720.8</td>\n",
       "      <td>2016</td>\n",
       "      <td>9</td>\n",
       "      <td>21</td>\n",
       "      <td>2</td>\n",
       "      <td>10</td>\n",
       "      <td>10:40:00</td>\n",
       "    </tr>\n",
       "    <tr>\n",
       "      <th>2016-09-21 10:35:00</th>\n",
       "      <td>2016-09-21 10:35:00</td>\n",
       "      <td>1677.6</td>\n",
       "      <td>2016</td>\n",
       "      <td>9</td>\n",
       "      <td>21</td>\n",
       "      <td>2</td>\n",
       "      <td>10</td>\n",
       "      <td>10:35:00</td>\n",
       "    </tr>\n",
       "    <tr>\n",
       "      <th>2016-09-21 10:30:00</th>\n",
       "      <td>2016-09-21 10:30:00</td>\n",
       "      <td>1677.6</td>\n",
       "      <td>2016</td>\n",
       "      <td>9</td>\n",
       "      <td>21</td>\n",
       "      <td>2</td>\n",
       "      <td>10</td>\n",
       "      <td>10:30:00</td>\n",
       "    </tr>\n",
       "    <tr>\n",
       "      <th>2016-09-21 10:25:00</th>\n",
       "      <td>2016-09-21 10:25:00</td>\n",
       "      <td>1677.6</td>\n",
       "      <td>2016</td>\n",
       "      <td>9</td>\n",
       "      <td>21</td>\n",
       "      <td>2</td>\n",
       "      <td>10</td>\n",
       "      <td>10:25:00</td>\n",
       "    </tr>\n",
       "    <tr>\n",
       "      <th>2016-09-21 10:20:00</th>\n",
       "      <td>2016-09-21 10:20:00</td>\n",
       "      <td>1648.8</td>\n",
       "      <td>2016</td>\n",
       "      <td>9</td>\n",
       "      <td>21</td>\n",
       "      <td>2</td>\n",
       "      <td>10</td>\n",
       "      <td>10:20:00</td>\n",
       "    </tr>\n",
       "    <tr>\n",
       "      <th>2016-09-21 10:15:00</th>\n",
       "      <td>2016-09-21 10:15:00</td>\n",
       "      <td>1641.6</td>\n",
       "      <td>2016</td>\n",
       "      <td>9</td>\n",
       "      <td>21</td>\n",
       "      <td>2</td>\n",
       "      <td>10</td>\n",
       "      <td>10:15:00</td>\n",
       "    </tr>\n",
       "    <tr>\n",
       "      <th>2016-09-21 10:10:00</th>\n",
       "      <td>2016-09-21 10:10:00</td>\n",
       "      <td>1641.6</td>\n",
       "      <td>2016</td>\n",
       "      <td>9</td>\n",
       "      <td>21</td>\n",
       "      <td>2</td>\n",
       "      <td>10</td>\n",
       "      <td>10:10:00</td>\n",
       "    </tr>\n",
       "    <tr>\n",
       "      <th>2016-09-21 10:00:00</th>\n",
       "      <td>2016-09-21 10:00:00</td>\n",
       "      <td>1648.8</td>\n",
       "      <td>2016</td>\n",
       "      <td>9</td>\n",
       "      <td>21</td>\n",
       "      <td>2</td>\n",
       "      <td>10</td>\n",
       "      <td>10:00:00</td>\n",
       "    </tr>\n",
       "  </tbody>\n",
       "</table>\n",
       "</div>"
      ],
      "text/plain": [
       "                       DateTime_Measured  Total_Demand_KW  Year  Month  Day  \\\n",
       "Date                                                                          \n",
       "2016-09-21 11:45:00  2016-09-21 11:45:00           1641.6  2016      9   21   \n",
       "2016-09-21 11:40:00  2016-09-21 11:40:00           1692.0  2016      9   21   \n",
       "2016-09-21 11:35:00  2016-09-21 11:35:00           1677.6  2016      9   21   \n",
       "2016-09-21 11:30:00  2016-09-21 11:30:00           1648.8  2016      9   21   \n",
       "2016-09-21 11:25:00  2016-09-21 11:25:00           1605.6  2016      9   21   \n",
       "2016-09-21 11:20:00  2016-09-21 11:20:00           1648.8  2016      9   21   \n",
       "2016-09-21 11:15:00  2016-09-21 11:15:00           1684.8  2016      9   21   \n",
       "2016-09-21 11:05:00  2016-09-21 11:05:00           1677.6  2016      9   21   \n",
       "2016-09-21 11:00:00  2016-09-21 11:00:00           1684.8  2016      9   21   \n",
       "2016-09-21 10:55:00  2016-09-21 10:55:00           1641.6  2016      9   21   \n",
       "2016-09-21 10:50:00  2016-09-21 10:50:00           1641.6  2016      9   21   \n",
       "2016-09-21 10:45:00  2016-09-21 10:45:00           1677.6  2016      9   21   \n",
       "2016-09-21 10:40:00  2016-09-21 10:40:00           1720.8  2016      9   21   \n",
       "2016-09-21 10:35:00  2016-09-21 10:35:00           1677.6  2016      9   21   \n",
       "2016-09-21 10:30:00  2016-09-21 10:30:00           1677.6  2016      9   21   \n",
       "2016-09-21 10:25:00  2016-09-21 10:25:00           1677.6  2016      9   21   \n",
       "2016-09-21 10:20:00  2016-09-21 10:20:00           1648.8  2016      9   21   \n",
       "2016-09-21 10:15:00  2016-09-21 10:15:00           1641.6  2016      9   21   \n",
       "2016-09-21 10:10:00  2016-09-21 10:10:00           1641.6  2016      9   21   \n",
       "2016-09-21 10:00:00  2016-09-21 10:00:00           1648.8  2016      9   21   \n",
       "\n",
       "                     Weekday  Hour      Time  \n",
       "Date                                          \n",
       "2016-09-21 11:45:00        2    11  11:45:00  \n",
       "2016-09-21 11:40:00        2    11  11:40:00  \n",
       "2016-09-21 11:35:00        2    11  11:35:00  \n",
       "2016-09-21 11:30:00        2    11  11:30:00  \n",
       "2016-09-21 11:25:00        2    11  11:25:00  \n",
       "2016-09-21 11:20:00        2    11  11:20:00  \n",
       "2016-09-21 11:15:00        2    11  11:15:00  \n",
       "2016-09-21 11:05:00        2    11  11:05:00  \n",
       "2016-09-21 11:00:00        2    11  11:00:00  \n",
       "2016-09-21 10:55:00        2    10  10:55:00  \n",
       "2016-09-21 10:50:00        2    10  10:50:00  \n",
       "2016-09-21 10:45:00        2    10  10:45:00  \n",
       "2016-09-21 10:40:00        2    10  10:40:00  \n",
       "2016-09-21 10:35:00        2    10  10:35:00  \n",
       "2016-09-21 10:30:00        2    10  10:30:00  \n",
       "2016-09-21 10:25:00        2    10  10:25:00  \n",
       "2016-09-21 10:20:00        2    10  10:20:00  \n",
       "2016-09-21 10:15:00        2    10  10:15:00  \n",
       "2016-09-21 10:10:00        2    10  10:10:00  \n",
       "2016-09-21 10:00:00        2    10  10:00:00  "
      ]
     },
     "execution_count": 21,
     "metadata": {},
     "output_type": "execute_result"
    }
   ],
   "source": [
    "dataBPL.tail(20)"
   ]
  },
  {
   "cell_type": "code",
   "execution_count": 22,
   "metadata": {},
   "outputs": [
    {
     "data": {
      "image/png": "[encoded data removed]",
      "text/plain": [
       "<matplotlib.figure.Figure at 0x10e98f990>"
      ]
     },
     "execution_count": 22,
     "metadata": {},
     "output_type": "execute_result"
    },
    {
     "data": {
      "image/png": "[encoded data removed]",
      "text/plain": [
       "<matplotlib.figure.Figure at 0x10e98f990>"
      ]
     },
     "metadata": {},
     "output_type": "display_data"
    }
   ],
   "source": [
    "from statsmodels.graphics.tsaplots import plot_acf\n",
    "\n",
    "plot_acf(dataBPL['Total_Demand_KW'], lags=5209)\n",
    "\n",
    "# The dataBPL dataset is sampled every 5 minutes and show correlation peaks every \n",
    "# 7 day (2016 data points) cycles and subpeaks every 24 hours. The correlation \n",
    "# factor is 0.8 at 168 hours (weekly) \n",
    "\n",
    "# Components 1 and 2 seem particularly useful for autoregression, perhaps up to 4\n",
    "# In the plot above notice, spike at around 52 - implying a yearly pattern as well\n",
    "# No random spikes, probably not much use for a moving average model"
   ]
  },
  {
   "cell_type": "code",
   "execution_count": 23,
   "metadata": {},
   "outputs": [
    {
     "data": {
      "text/html": [
       "<div>\n",
       "<style>\n",
       "    .dataframe thead tr:only-child th {\n",
       "        text-align: right;\n",
       "    }\n",
       "\n",
       "    .dataframe thead th {\n",
       "        text-align: left;\n",
       "    }\n",
       "\n",
       "    .dataframe tbody tr th {\n",
       "        vertical-align: top;\n",
       "    }\n",
       "</style>\n",
       "<table border=\"1\" class=\"dataframe\">\n",
       "  <thead>\n",
       "    <tr style=\"text-align: right;\">\n",
       "      <th></th>\n",
       "      <th>Total_Demand_KW</th>\n",
       "    </tr>\n",
       "    <tr>\n",
       "      <th>Date</th>\n",
       "      <th></th>\n",
       "    </tr>\n",
       "  </thead>\n",
       "  <tbody>\n",
       "    <tr>\n",
       "      <th>2017-10-27</th>\n",
       "      <td>1004.280093</td>\n",
       "    </tr>\n",
       "    <tr>\n",
       "      <th>2017-10-28</th>\n",
       "      <td>1028.278935</td>\n",
       "    </tr>\n",
       "    <tr>\n",
       "      <th>2017-10-29</th>\n",
       "      <td>807.719907</td>\n",
       "    </tr>\n",
       "    <tr>\n",
       "      <th>2017-10-30</th>\n",
       "      <td>1075.491898</td>\n",
       "    </tr>\n",
       "    <tr>\n",
       "      <th>2017-10-31</th>\n",
       "      <td>660.607261</td>\n",
       "    </tr>\n",
       "  </tbody>\n",
       "</table>\n",
       "</div>"
      ],
      "text/plain": [
       "            Total_Demand_KW\n",
       "Date                       \n",
       "2017-10-27      1004.280093\n",
       "2017-10-28      1028.278935\n",
       "2017-10-29       807.719907\n",
       "2017-10-30      1075.491898\n",
       "2017-10-31       660.607261"
      ]
     },
     "execution_count": 23,
     "metadata": {},
     "output_type": "execute_result"
    }
   ],
   "source": [
    "BPL_electric.tail()"
   ]
  },
  {
   "cell_type": "code",
   "execution_count": 24,
   "metadata": {},
   "outputs": [
    {
     "data": {
      "image/png": "[encoded data removed]",
      "text/plain": [
       "<matplotlib.figure.Figure at 0x10f437b90>"
      ]
     },
     "execution_count": 24,
     "metadata": {},
     "output_type": "execute_result"
    },
    {
     "data": {
      "image/png": "[encoded data removed]",
      "text/plain": [
       "<matplotlib.figure.Figure at 0x10f437b90>"
      ]
     },
     "metadata": {},
     "output_type": "display_data"
    }
   ],
   "source": [
    "\n",
    "plot_acf(BPL_electric['Total_Demand_KW'], lags=62)"
   ]
  },
  {
   "cell_type": "markdown",
   "metadata": {},
   "source": [
    "##### Split the energy consumption (5 min) data in a training and test set - using 75% of the data for training"
   ]
  },
  {
   "cell_type": "code",
   "execution_count": 31,
   "metadata": {
    "collapsed": true
   },
   "outputs": [],
   "source": [
    "n = len(dataBPL.Total_Demand_KW)\n",
    "\n",
    "train = dataBPL.Total_Demand_KW[:int(.75*n)]\n",
    "test = dataBPL.Total_Demand_KW[int(.75*n):]"
   ]
  },
  {
   "cell_type": "code",
   "execution_count": 32,
   "metadata": {},
   "outputs": [
    {
     "data": {
      "text/plain": [
       "Date\n",
       "2017-10-31 08:30:00    1209.0\n",
       "2017-10-31 08:25:00    1216.0\n",
       "2017-10-31 08:20:00    1216.0\n",
       "2017-10-31 08:15:00    1216.0\n",
       "2017-10-31 08:10:00    1188.0\n",
       "Name: Total_Demand_KW, dtype: float64"
      ]
     },
     "execution_count": 32,
     "metadata": {},
     "output_type": "execute_result"
    }
   ],
   "source": [
    "train.head()"
   ]
  },
  {
   "cell_type": "code",
   "execution_count": 33,
   "metadata": {},
   "outputs": [
    {
     "data": {
      "text/plain": [
       "Date\n",
       "2016-12-31 17:10:00     684.0\n",
       "2016-12-31 17:05:00     864.0\n",
       "2016-12-31 17:00:00    1504.8\n",
       "2016-12-31 16:55:00    1468.8\n",
       "2016-12-31 16:50:00    1476.0\n",
       "Name: Total_Demand_KW, dtype: float64"
      ]
     },
     "execution_count": 33,
     "metadata": {},
     "output_type": "execute_result"
    }
   ],
   "source": [
    "train.tail()"
   ]
  },
  {
   "cell_type": "markdown",
   "metadata": {},
   "source": [
    "#### Create an AR(1) model on the training data and compute the mean absolute error of the predictions."
   ]
  },
  {
   "cell_type": "code",
   "execution_count": 35,
   "metadata": {
    "collapsed": true
   },
   "outputs": [],
   "source": [
    "import statsmodels.api as sm\n",
    "from sklearn.metrics import mean_absolute_error"
   ]
  },
  {
   "cell_type": "code",
   "execution_count": 39,
   "metadata": {},
   "outputs": [
    {
     "name": "stdout",
     "output_type": "stream",
     "text": [
      "const                      0.003046\n",
      "ar.L1.D.Total_Demand_KW    0.106003\n",
      "dtype: float64\n"
     ]
    }
   ],
   "source": [
    "model = sm.tsa.ARIMA(train, (1, 1, 0)).fit()\n",
    "print(model.params)"
   ]
  },
  {
   "cell_type": "code",
   "execution_count": 45,
   "metadata": {},
   "outputs": [
    {
     "data": {
      "text/html": [
       "<table class=\"simpletable\">\n",
       "<caption>ARIMA Model Results</caption>\n",
       "<tr>\n",
       "  <th>Dep. Variable:</th> <td>D.Total_Demand_KW</td> <th>  No. Observations:  </th>    <td>87473</td>   \n",
       "</tr>\n",
       "<tr>\n",
       "  <th>Model:</th>          <td>ARIMA(1, 1, 0)</td>   <th>  Log Likelihood     </th> <td>-457269.078</td>\n",
       "</tr>\n",
       "<tr>\n",
       "  <th>Method:</th>             <td>css-mle</td>      <th>  S.D. of innovations</th>   <td>45.088</td>   \n",
       "</tr>\n",
       "<tr>\n",
       "  <th>Date:</th>          <td>Tue, 31 Oct 2017</td>  <th>  AIC                </th> <td>914544.156</td> \n",
       "</tr>\n",
       "<tr>\n",
       "  <th>Time:</th>              <td>11:31:19</td>      <th>  BIC                </th> <td>914572.293</td> \n",
       "</tr>\n",
       "<tr>\n",
       "  <th>Sample:</th>           <td>10-31-2017</td>     <th>  HQIC               </th> <td>914552.746</td> \n",
       "</tr>\n",
       "<tr>\n",
       "  <th></th>                 <td>- 12-31-2016</td>    <th>                     </th>      <td> </td>     \n",
       "</tr>\n",
       "</table>\n",
       "<table class=\"simpletable\">\n",
       "<tr>\n",
       "             <td></td>                <th>coef</th>     <th>std err</th>      <th>z</th>      <th>P>|z|</th>  <th>[0.025</th>    <th>0.975]</th>  \n",
       "</tr>\n",
       "<tr>\n",
       "  <th>const</th>                   <td>    0.0030</td> <td>    0.171</td> <td>    0.018</td> <td> 0.986</td> <td>   -0.331</td> <td>    0.337</td>\n",
       "</tr>\n",
       "<tr>\n",
       "  <th>ar.L1.D.Total_Demand_KW</th> <td>    0.1060</td> <td>    0.003</td> <td>   31.529</td> <td> 0.000</td> <td>    0.099</td> <td>    0.113</td>\n",
       "</tr>\n",
       "</table>\n",
       "<table class=\"simpletable\">\n",
       "<caption>Roots</caption>\n",
       "<tr>\n",
       "    <td></td>   <th>           Real</th> <th>         Imaginary</th> <th>         Modulus</th> <th>        Frequency</th>\n",
       "</tr>\n",
       "<tr>\n",
       "  <th>AR.1</th>               9.4337                    +0.0000j                    9.4337                    0.0000     \n",
       "</tr>\n",
       "</table>"
      ],
      "text/plain": [
       "<class 'statsmodels.iolib.summary.Summary'>\n",
       "\"\"\"\n",
       "                             ARIMA Model Results                              \n",
       "==============================================================================\n",
       "Dep. Variable:      D.Total_Demand_KW   No. Observations:                87473\n",
       "Model:                 ARIMA(1, 1, 0)   Log Likelihood             -457269.078\n",
       "Method:                       css-mle   S.D. of innovations             45.088\n",
       "Date:                Tue, 31 Oct 2017   AIC                         914544.156\n",
       "Time:                        11:31:19   BIC                         914572.293\n",
       "Sample:                    10-31-2017   HQIC                        914552.746\n",
       "                         - 12-31-2016                                         \n",
       "===========================================================================================\n",
       "                              coef    std err          z      P>|z|      [0.025      0.975]\n",
       "-------------------------------------------------------------------------------------------\n",
       "const                       0.0030      0.171      0.018      0.986      -0.331       0.337\n",
       "ar.L1.D.Total_Demand_KW     0.1060      0.003     31.529      0.000       0.099       0.113\n",
       "                                    Roots                                    \n",
       "=============================================================================\n",
       "                 Real           Imaginary           Modulus         Frequency\n",
       "-----------------------------------------------------------------------------\n",
       "AR.1            9.4337           +0.0000j            9.4337            0.0000\n",
       "-----------------------------------------------------------------------------\n",
       "\"\"\""
      ]
     },
     "execution_count": 45,
     "metadata": {},
     "output_type": "execute_result"
    }
   ],
   "source": [
    "model = sm.tsa.ARIMA(train, (1, 1, 0)).fit()\n",
    "\n",
    "predictions = model.predict(dynamic=True)\n",
    "#predictions = model.predict(\n",
    "#    '2016-12-31 17:10:00',\n",
    "#    '2017-10-31 08:10:00',\n",
    "#    dynamic=True, \n",
    "#)\n",
    "print(\"Mean absolute error: \", mean_absolute_error(test, predictions))\n",
    "model.summary()"
   ]
  },
  {
   "cell_type": "markdown",
   "metadata": {},
   "source": [
    "#### Plot the residuals - where are their significant errors."
   ]
  },
  {
   "cell_type": "code",
   "execution_count": 46,
   "metadata": {},
   "outputs": [
    {
     "data": {
      "text/plain": [
       "<matplotlib.axes._subplots.AxesSubplot at 0x1146b1310>"
      ]
     },
     "execution_count": 46,
     "metadata": {},
     "output_type": "execute_result"
    },
    {
     "data": {
      "image/png": "[encoded data removed]",
      "text/plain": [
       "<matplotlib.figure.Figure at 0x112db4bd0>"
      ]
     },
     "metadata": {},
     "output_type": "display_data"
    }
   ],
   "source": [
    "model.resid.plot()"
   ]
  },
  {
   "cell_type": "code",
   "execution_count": 15,
   "metadata": {},
   "outputs": [
    {
     "data": {
      "image/png": "[encoded data removed]",
      "text/plain": [
       "<matplotlib.figure.Figure at 0x119eabf10>"
      ]
     },
     "execution_count": 15,
     "metadata": {},
     "output_type": "execute_result"
    },
    {
     "data": {
      "image/png": "[encoded data removed]",
      "text/plain": [
       "<matplotlib.figure.Figure at 0x119eabf10>"
      ]
     },
     "metadata": {},
     "output_type": "display_data"
    }
   ],
   "source": [
    "plot_acf(model.resid, lags=30)"
   ]
  },
  {
   "cell_type": "markdown",
   "metadata": {},
   "source": [
    "#### Compute and AR(2) model and an ARMA(2, 2) model - does this improve your mean absolute error on the held out set."
   ]
  },
  {
   "cell_type": "code",
   "execution_count": 16,
   "metadata": {},
   "outputs": [
    {
     "name": "stdout",
     "output_type": "stream",
     "text": [
      "('Mean absolute error: ', 81203.240909485947)\n"
     ]
    },
    {
     "data": {
      "text/html": [
       "<table class=\"simpletable\">\n",
       "<caption>ARMA Model Results</caption>\n",
       "<tr>\n",
       "  <th>Dep. Variable:</th>   <td>Weekly_Sales</td>   <th>  No. Observations:  </th>     <td>107</td>   \n",
       "</tr>\n",
       "<tr>\n",
       "  <th>Model:</th>            <td>ARMA(2, 0)</td>    <th>  Log Likelihood     </th>  <td>-1434.482</td>\n",
       "</tr>\n",
       "<tr>\n",
       "  <th>Method:</th>             <td>css-mle</td>     <th>  S.D. of innovations</th> <td>160638.038</td>\n",
       "</tr>\n",
       "<tr>\n",
       "  <th>Date:</th>          <td>Tue, 08 Mar 2016</td> <th>  AIC                </th>  <td>2876.963</td> \n",
       "</tr>\n",
       "<tr>\n",
       "  <th>Time:</th>              <td>12:48:22</td>     <th>  BIC                </th>  <td>2887.655</td> \n",
       "</tr>\n",
       "<tr>\n",
       "  <th>Sample:</th>           <td>02-07-2010</td>    <th>  HQIC               </th>  <td>2881.298</td> \n",
       "</tr>\n",
       "<tr>\n",
       "  <th></th>                 <td>- 02-19-2012</td>   <th>                     </th>      <td> </td>    \n",
       "</tr>\n",
       "</table>\n",
       "<table class=\"simpletable\">\n",
       "<tr>\n",
       "           <td></td>             <th>coef</th>     <th>std err</th>      <th>z</th>      <th>P>|z|</th> <th>[95.0% Conf. Int.]</th> \n",
       "</tr>\n",
       "<tr>\n",
       "  <th>const</th>              <td> 1.544e+06</td> <td>  2.4e+04</td> <td>   64.349</td> <td> 0.000</td> <td>  1.5e+06  1.59e+06</td>\n",
       "</tr>\n",
       "<tr>\n",
       "  <th>ar.L1.Weekly_Sales</th> <td>    0.2974</td> <td>    0.097</td> <td>    3.075</td> <td> 0.003</td> <td>    0.108     0.487</td>\n",
       "</tr>\n",
       "<tr>\n",
       "  <th>ar.L2.Weekly_Sales</th> <td>    0.0589</td> <td>    0.098</td> <td>    0.603</td> <td> 0.548</td> <td>   -0.132     0.250</td>\n",
       "</tr>\n",
       "</table>\n",
       "<table class=\"simpletable\">\n",
       "<caption>Roots</caption>\n",
       "<tr>\n",
       "    <td></td>   <th>           Real</th> <th>         Imaginary</th> <th>         Modulus</th> <th>        Frequency</th>\n",
       "</tr>\n",
       "<tr>\n",
       "  <th>AR.1</th>               2.3081                    +0.0000j                    2.3081                    0.0000     \n",
       "</tr>\n",
       "<tr>\n",
       "  <th>AR.2</th>              -7.3588                    +0.0000j                    7.3588                    0.5000     \n",
       "</tr>\n",
       "</table>"
      ],
      "text/plain": [
       "<class 'statsmodels.iolib.summary.Summary'>\n",
       "\"\"\"\n",
       "                              ARMA Model Results                              \n",
       "==============================================================================\n",
       "Dep. Variable:           Weekly_Sales   No. Observations:                  107\n",
       "Model:                     ARMA(2, 0)   Log Likelihood               -1434.482\n",
       "Method:                       css-mle   S.D. of innovations         160638.038\n",
       "Date:                Tue, 08 Mar 2016   AIC                           2876.963\n",
       "Time:                        12:48:22   BIC                           2887.655\n",
       "Sample:                    02-07-2010   HQIC                          2881.298\n",
       "                         - 02-19-2012                                         \n",
       "======================================================================================\n",
       "                         coef    std err          z      P>|z|      [95.0% Conf. Int.]\n",
       "--------------------------------------------------------------------------------------\n",
       "const               1.544e+06    2.4e+04     64.349      0.000       1.5e+06  1.59e+06\n",
       "ar.L1.Weekly_Sales     0.2974      0.097      3.075      0.003         0.108     0.487\n",
       "ar.L2.Weekly_Sales     0.0589      0.098      0.603      0.548        -0.132     0.250\n",
       "                                    Roots                                    \n",
       "=============================================================================\n",
       "                 Real           Imaginary           Modulus         Frequency\n",
       "-----------------------------------------------------------------------------\n",
       "AR.1            2.3081           +0.0000j            2.3081            0.0000\n",
       "AR.2           -7.3588           +0.0000j            7.3588            0.5000\n",
       "-----------------------------------------------------------------------------\n",
       "\"\"\""
      ]
     },
     "execution_count": 16,
     "metadata": {},
     "output_type": "execute_result"
    }
   ],
   "source": [
    "model = sm.tsa.ARIMA(train, (2, 0, 0)).fit()\n",
    "\n",
    "predictions = model.predict(\n",
    "    '2012-02-27',\n",
    "    '2012-10-29',\n",
    "    dynamic=True, \n",
    ")\n",
    "\n",
    "print(\"Mean absolute error: \", mean_absolute_error(test, predictions))\n",
    "model.summary()"
   ]
  },
  {
   "cell_type": "code",
   "execution_count": 17,
   "metadata": {},
   "outputs": [
    {
     "name": "stdout",
     "output_type": "stream",
     "text": [
      "('Mean absolute error: ', 80502.745386798299)\n"
     ]
    },
    {
     "data": {
      "text/html": [
       "<table class=\"simpletable\">\n",
       "<caption>ARMA Model Results</caption>\n",
       "<tr>\n",
       "  <th>Dep. Variable:</th>   <td>Weekly_Sales</td>   <th>  No. Observations:  </th>     <td>107</td>   \n",
       "</tr>\n",
       "<tr>\n",
       "  <th>Model:</th>            <td>ARMA(2, 2)</td>    <th>  Log Likelihood     </th>  <td>-1425.781</td>\n",
       "</tr>\n",
       "<tr>\n",
       "  <th>Method:</th>             <td>css-mle</td>     <th>  S.D. of innovations</th> <td>144113.350</td>\n",
       "</tr>\n",
       "<tr>\n",
       "  <th>Date:</th>          <td>Tue, 08 Mar 2016</td> <th>  AIC                </th>  <td>2863.563</td> \n",
       "</tr>\n",
       "<tr>\n",
       "  <th>Time:</th>              <td>12:48:23</td>     <th>  BIC                </th>  <td>2879.600</td> \n",
       "</tr>\n",
       "<tr>\n",
       "  <th>Sample:</th>           <td>02-07-2010</td>    <th>  HQIC               </th>  <td>2870.064</td> \n",
       "</tr>\n",
       "<tr>\n",
       "  <th></th>                 <td>- 02-19-2012</td>   <th>                     </th>      <td> </td>    \n",
       "</tr>\n",
       "</table>\n",
       "<table class=\"simpletable\">\n",
       "<tr>\n",
       "           <td></td>             <th>coef</th>     <th>std err</th>      <th>z</th>      <th>P>|z|</th> <th>[95.0% Conf. Int.]</th> \n",
       "</tr>\n",
       "<tr>\n",
       "  <th>const</th>              <td> 1.544e+06</td> <td> 1.92e+04</td> <td>   80.327</td> <td> 0.000</td> <td> 1.51e+06  1.58e+06</td>\n",
       "</tr>\n",
       "<tr>\n",
       "  <th>ar.L1.Weekly_Sales</th> <td>   -1.0400</td> <td>    0.090</td> <td>  -11.583</td> <td> 0.000</td> <td>   -1.216    -0.864</td>\n",
       "</tr>\n",
       "<tr>\n",
       "  <th>ar.L2.Weekly_Sales</th> <td>   -0.4701</td> <td>    0.087</td> <td>   -5.381</td> <td> 0.000</td> <td>   -0.641    -0.299</td>\n",
       "</tr>\n",
       "<tr>\n",
       "  <th>ma.L1.Weekly_Sales</th> <td>    1.4692</td> <td>    0.058</td> <td>   25.424</td> <td> 0.000</td> <td>    1.356     1.582</td>\n",
       "</tr>\n",
       "<tr>\n",
       "  <th>ma.L2.Weekly_Sales</th> <td>    0.9998</td> <td>    0.074</td> <td>   13.576</td> <td> 0.000</td> <td>    0.855     1.144</td>\n",
       "</tr>\n",
       "</table>\n",
       "<table class=\"simpletable\">\n",
       "<caption>Roots</caption>\n",
       "<tr>\n",
       "    <td></td>   <th>           Real</th> <th>         Imaginary</th> <th>         Modulus</th> <th>        Frequency</th>\n",
       "</tr>\n",
       "<tr>\n",
       "  <th>AR.1</th>              -1.1060                    -0.9507j                    1.4584                   -0.3870     \n",
       "</tr>\n",
       "<tr>\n",
       "  <th>AR.2</th>              -1.1060                    +0.9507j                    1.4584                    0.3870     \n",
       "</tr>\n",
       "<tr>\n",
       "  <th>MA.1</th>              -0.7347                    -0.6785j                    1.0001                   -0.3813     \n",
       "</tr>\n",
       "<tr>\n",
       "  <th>MA.2</th>              -0.7347                    +0.6785j                    1.0001                    0.3813     \n",
       "</tr>\n",
       "</table>"
      ],
      "text/plain": [
       "<class 'statsmodels.iolib.summary.Summary'>\n",
       "\"\"\"\n",
       "                              ARMA Model Results                              \n",
       "==============================================================================\n",
       "Dep. Variable:           Weekly_Sales   No. Observations:                  107\n",
       "Model:                     ARMA(2, 2)   Log Likelihood               -1425.781\n",
       "Method:                       css-mle   S.D. of innovations         144113.350\n",
       "Date:                Tue, 08 Mar 2016   AIC                           2863.563\n",
       "Time:                        12:48:23   BIC                           2879.600\n",
       "Sample:                    02-07-2010   HQIC                          2870.064\n",
       "                         - 02-19-2012                                         \n",
       "======================================================================================\n",
       "                         coef    std err          z      P>|z|      [95.0% Conf. Int.]\n",
       "--------------------------------------------------------------------------------------\n",
       "const               1.544e+06   1.92e+04     80.327      0.000      1.51e+06  1.58e+06\n",
       "ar.L1.Weekly_Sales    -1.0400      0.090    -11.583      0.000        -1.216    -0.864\n",
       "ar.L2.Weekly_Sales    -0.4701      0.087     -5.381      0.000        -0.641    -0.299\n",
       "ma.L1.Weekly_Sales     1.4692      0.058     25.424      0.000         1.356     1.582\n",
       "ma.L2.Weekly_Sales     0.9998      0.074     13.576      0.000         0.855     1.144\n",
       "                                    Roots                                    \n",
       "=============================================================================\n",
       "                 Real           Imaginary           Modulus         Frequency\n",
       "-----------------------------------------------------------------------------\n",
       "AR.1           -1.1060           -0.9507j            1.4584           -0.3870\n",
       "AR.2           -1.1060           +0.9507j            1.4584            0.3870\n",
       "MA.1           -0.7347           -0.6785j            1.0001           -0.3813\n",
       "MA.2           -0.7347           +0.6785j            1.0001            0.3813\n",
       "-----------------------------------------------------------------------------\n",
       "\"\"\""
      ]
     },
     "execution_count": 17,
     "metadata": {},
     "output_type": "execute_result"
    }
   ],
   "source": [
    "model = sm.tsa.ARIMA(train, (2, 0, 2)).fit()\n",
    "\n",
    "predictions = model.predict(\n",
    "    '2012-02-27',\n",
    "    '2012-10-29',\n",
    "    dynamic=True, \n",
    ")\n",
    "\n",
    "print(\"Mean absolute error: \", mean_absolute_error(test, predictions))\n",
    "model.summary()"
   ]
  },
  {
   "cell_type": "markdown",
   "metadata": {},
   "source": [
    "#### Finally, compute an ARIMA model to improve your prediction error - iterate on the p, q, and parameters comparing the model's performance."
   ]
  },
  {
   "cell_type": "code",
   "execution_count": 18,
   "metadata": {},
   "outputs": [
    {
     "name": "stdout",
     "output_type": "stream",
     "text": [
      "('Mean absolute error: ', 77789.494825392394)\n"
     ]
    },
    {
     "name": "stderr",
     "output_type": "stream",
     "text": [
      "/Users/arahuja/anaconda/lib/python2.7/site-packages/statsmodels/base/model.py:466: ConvergenceWarning: Maximum Likelihood optimization failed to converge. Check mle_retvals\n",
      "  \"Check mle_retvals\", ConvergenceWarning)\n"
     ]
    },
    {
     "data": {
      "text/html": [
       "<table class=\"simpletable\">\n",
       "<caption>ARIMA Model Results</caption>\n",
       "<tr>\n",
       "  <th>Dep. Variable:</th>  <td>D.Weekly_Sales</td>  <th>  No. Observations:  </th>     <td>106</td>   \n",
       "</tr>\n",
       "<tr>\n",
       "  <th>Model:</th>          <td>ARIMA(2, 1, 3)</td>  <th>  Log Likelihood     </th>  <td>-1413.622</td>\n",
       "</tr>\n",
       "<tr>\n",
       "  <th>Method:</th>             <td>css-mle</td>     <th>  S.D. of innovations</th> <td>142943.992</td>\n",
       "</tr>\n",
       "<tr>\n",
       "  <th>Date:</th>          <td>Tue, 08 Mar 2016</td> <th>  AIC                </th>  <td>2841.243</td> \n",
       "</tr>\n",
       "<tr>\n",
       "  <th>Time:</th>              <td>12:48:27</td>     <th>  BIC                </th>  <td>2859.887</td> \n",
       "</tr>\n",
       "<tr>\n",
       "  <th>Sample:</th>           <td>02-14-2010</td>    <th>  HQIC               </th>  <td>2848.800</td> \n",
       "</tr>\n",
       "<tr>\n",
       "  <th></th>                 <td>- 02-19-2012</td>   <th>                     </th>      <td> </td>    \n",
       "</tr>\n",
       "</table>\n",
       "<table class=\"simpletable\">\n",
       "<tr>\n",
       "            <td></td>              <th>coef</th>     <th>std err</th>      <th>z</th>      <th>P>|z|</th> <th>[95.0% Conf. Int.]</th> \n",
       "</tr>\n",
       "<tr>\n",
       "  <th>const</th>                <td>  577.5354</td> <td>  622.025</td> <td>    0.928</td> <td> 0.355</td> <td> -641.611  1796.682</td>\n",
       "</tr>\n",
       "<tr>\n",
       "  <th>ar.L1.D.Weekly_Sales</th> <td>   -1.0481</td> <td>    0.090</td> <td>  -11.609</td> <td> 0.000</td> <td>   -1.225    -0.871</td>\n",
       "</tr>\n",
       "<tr>\n",
       "  <th>ar.L2.D.Weekly_Sales</th> <td>   -0.4778</td> <td>    0.088</td> <td>   -5.442</td> <td> 0.000</td> <td>   -0.650    -0.306</td>\n",
       "</tr>\n",
       "<tr>\n",
       "  <th>ma.L1.D.Weekly_Sales</th> <td>    0.4694</td> <td>    0.116</td> <td>    4.057</td> <td> 0.000</td> <td>    0.243     0.696</td>\n",
       "</tr>\n",
       "<tr>\n",
       "  <th>ma.L2.D.Weekly_Sales</th> <td>   -0.4693</td> <td>    0.152</td> <td>   -3.095</td> <td> 0.003</td> <td>   -0.766    -0.172</td>\n",
       "</tr>\n",
       "<tr>\n",
       "  <th>ma.L3.D.Weekly_Sales</th> <td>   -0.9997</td> <td>    0.123</td> <td>   -8.098</td> <td> 0.000</td> <td>   -1.242    -0.758</td>\n",
       "</tr>\n",
       "</table>\n",
       "<table class=\"simpletable\">\n",
       "<caption>Roots</caption>\n",
       "<tr>\n",
       "    <td></td>   <th>           Real</th> <th>         Imaginary</th> <th>         Modulus</th> <th>        Frequency</th>\n",
       "</tr>\n",
       "<tr>\n",
       "  <th>AR.1</th>              -1.0967                    -0.9434j                    1.4466                   -0.3869     \n",
       "</tr>\n",
       "<tr>\n",
       "  <th>AR.2</th>              -1.0967                    +0.9434j                    1.4466                    0.3869     \n",
       "</tr>\n",
       "<tr>\n",
       "  <th>MA.1</th>               1.0001                    -0.0000j                    1.0001                   -0.0000     \n",
       "</tr>\n",
       "<tr>\n",
       "  <th>MA.2</th>              -0.7348                    -0.6784j                    1.0001                   -0.3813     \n",
       "</tr>\n",
       "<tr>\n",
       "  <th>MA.3</th>              -0.7348                    +0.6784j                    1.0001                    0.3813     \n",
       "</tr>\n",
       "</table>"
      ],
      "text/plain": [
       "<class 'statsmodels.iolib.summary.Summary'>\n",
       "\"\"\"\n",
       "                             ARIMA Model Results                              \n",
       "==============================================================================\n",
       "Dep. Variable:         D.Weekly_Sales   No. Observations:                  106\n",
       "Model:                 ARIMA(2, 1, 3)   Log Likelihood               -1413.622\n",
       "Method:                       css-mle   S.D. of innovations         142943.992\n",
       "Date:                Tue, 08 Mar 2016   AIC                           2841.243\n",
       "Time:                        12:48:27   BIC                           2859.887\n",
       "Sample:                    02-14-2010   HQIC                          2848.800\n",
       "                         - 02-19-2012                                         \n",
       "========================================================================================\n",
       "                           coef    std err          z      P>|z|      [95.0% Conf. Int.]\n",
       "----------------------------------------------------------------------------------------\n",
       "const                  577.5354    622.025      0.928      0.355      -641.611  1796.682\n",
       "ar.L1.D.Weekly_Sales    -1.0481      0.090    -11.609      0.000        -1.225    -0.871\n",
       "ar.L2.D.Weekly_Sales    -0.4778      0.088     -5.442      0.000        -0.650    -0.306\n",
       "ma.L1.D.Weekly_Sales     0.4694      0.116      4.057      0.000         0.243     0.696\n",
       "ma.L2.D.Weekly_Sales    -0.4693      0.152     -3.095      0.003        -0.766    -0.172\n",
       "ma.L3.D.Weekly_Sales    -0.9997      0.123     -8.098      0.000        -1.242    -0.758\n",
       "                                    Roots                                    \n",
       "=============================================================================\n",
       "                 Real           Imaginary           Modulus         Frequency\n",
       "-----------------------------------------------------------------------------\n",
       "AR.1           -1.0967           -0.9434j            1.4466           -0.3869\n",
       "AR.2           -1.0967           +0.9434j            1.4466            0.3869\n",
       "MA.1            1.0001           -0.0000j            1.0001           -0.0000\n",
       "MA.2           -0.7348           -0.6784j            1.0001           -0.3813\n",
       "MA.3           -0.7348           +0.6784j            1.0001            0.3813\n",
       "-----------------------------------------------------------------------------\n",
       "\"\"\""
      ]
     },
     "execution_count": 18,
     "metadata": {},
     "output_type": "execute_result"
    }
   ],
   "source": [
    "model = sm.tsa.ARIMA(train, (2, 1, 3)).fit()\n",
    "\n",
    "predictions = model.predict(\n",
    "    '2012-02-27',\n",
    "    '2012-10-29',\n",
    "    dynamic=False, \n",
    "    typ='levels'\n",
    ")\n",
    "\n",
    "print(\"Mean absolute error: \", mean_absolute_error(test, predictions))\n",
    "model.summary()"
   ]
  },
  {
   "cell_type": "code",
   "execution_count": null,
   "metadata": {
    "collapsed": true
   },
   "outputs": [],
   "source": []
  }
 ],
 "metadata": {
  "kernelspec": {
   "display_name": "Python 2",
   "language": "python",
   "name": "python2"
  },
  "language_info": {
   "codemirror_mode": {
    "name": "ipython",
    "version": 2
   },
   "file_extension": ".py",
   "mimetype": "text/x-python",
   "name": "python",
   "nbconvert_exporter": "python",
   "pygments_lexer": "ipython2",
   "version": "2.7.13"
  }
 },
 "nbformat": 4,
 "nbformat_minor": 1
}
