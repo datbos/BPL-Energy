{
 "cells": [
  {
   "cell_type": "code",
   "execution_count": 19,
   "metadata": {},
   "outputs": [
    {
     "name": "stdout",
     "output_type": "stream",
     "text": [
      "2\n",
      "3 7\n",
      "** 3 7\n",
      "['2']\n",
      "4 2\n",
      "** 4 2\n",
      "['2', '1']\n",
      "2\n",
      "1\n"
     ]
    }
   ],
   "source": [
    "t=raw_input()\n",
    "c=[]\n",
    "for j in range(0,int(t)):\n",
    "    n=raw_input()\n",
    "    a=[]\n",
    "    a,b= (int(i) for i in n.split(' '))\n",
    "    print '**', a,b\n",
    "    d=pow(a,b)\n",
    "    d2=str(d)\n",
    "    c.append(d2[0])\n",
    "    print c\n",
    "for j in c:\n",
    "    print j"
   ]
  },
  {
   "cell_type": "code",
   "execution_count": null,
   "metadata": {
    "collapsed": true
   },
   "outputs": [],
   "source": []
  },
  {
   "cell_type": "code",
   "execution_count": null,
   "metadata": {
    "collapsed": true
   },
   "outputs": [],
   "source": []
  }
 ],
 "metadata": {
  "kernelspec": {
   "display_name": "Python 2",
   "language": "python",
   "name": "python2"
  },
  "language_info": {
   "codemirror_mode": {
    "name": "ipython",
    "version": 2
   },
   "file_extension": ".py",
   "mimetype": "text/x-python",
   "name": "python",
   "nbconvert_exporter": "python",
   "pygments_lexer": "ipython2",
   "version": "2.7.13"
  }
 },
 "nbformat": 4,
 "nbformat_minor": 2
}
